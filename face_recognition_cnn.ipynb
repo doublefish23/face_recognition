{
 "cells": [
  {
   "cell_type": "markdown",
   "metadata": {},
   "source": [
    "# This model finds faces with CNN"
   ]
  },
  {
   "cell_type": "code",
   "execution_count": null,
   "metadata": {},
   "outputs": [],
   "source": [
    "%reload_ext autoreload\n",
    "%autoreload 2\n",
    "%matplotlib inline"
   ]
  },
  {
   "cell_type": "markdown",
   "metadata": {},
   "source": [
    "I use face recognition library to recognize faces. I use fastai.plots to plot the results to see the photos on which the algorithm found face and on which it didn't"
   ]
  },
  {
   "cell_type": "code",
   "execution_count": null,
   "metadata": {},
   "outputs": [],
   "source": [
    "import face_recognition\n",
    "from fastai.plots import *\n",
    "import os\n",
    "import itertools"
   ]
  },
  {
   "cell_type": "code",
   "execution_count": null,
   "metadata": {},
   "outputs": [],
   "source": [
    "PATH = \"your_path_here\""
   ]
  },
  {
   "cell_type": "markdown",
   "metadata": {},
   "source": [
    "I structured this the following way. In the main folder there are photos of a person and only him on each photo. The rest folder contains a set of pictures to sort."
   ]
  },
  {
   "cell_type": "code",
   "execution_count": null,
   "metadata": {},
   "outputs": [],
   "source": [
    "main_photos = find_all_images(f\"{PATH}/main\")\n",
    "root_dir = find_all_images(f\"{PATH}/the_rest\")"
   ]
  },
  {
   "cell_type": "code",
   "execution_count": null,
   "metadata": {},
   "outputs": [],
   "source": [
    "def find_all_images(root_dir):\n",
    "    \"\"\"\n",
    "        Finds all images in a given folder, including in subdirectories.\n",
    "    \"\"\"\n",
    "    all_images = []\n",
    "    for path, subdirs, files in os.walk(root_dir):\n",
    "        for name in files:\n",
    "            f_name = os.path.join(path, name)\n",
    "            if f_name[-4:].lower() == \".jpg\" or f_name[-4:].lower() == \".png\":\n",
    "                all_images.append(f_name)\n",
    "    return all_images\n",
    "\n",
    "def find_persons_encodings(photos):\n",
    "    \"\"\"\n",
    "        Finds face encodings for the main faces from different photos if there are more than one\n",
    "    \"\"\"\n",
    "    persons_face_encodings = []\n",
    "    for person in photos:\n",
    "        picture_of_person = face_recognition.load_image_file(person)\n",
    "        face_location = face_recognition.face_locations(picture_of_person, number_of_times_to_upsample=0, model=\"cnn\")\n",
    "        t = face_recognition.face_encodings(picture_of_person, face_location)\n",
    "        if len(t) != 0:\n",
    "            persons_face_encodings.append(t[0])\n",
    "    return persons_face_encodings\n",
    "\n",
    "def find_face_encodings(all_imgs):\n",
    "    \"\"\"\n",
    "        Finds face encodings for all faces from all photos from \"the rest\" folder\n",
    "    \"\"\"\n",
    "    unknown_face_encodings = []\n",
    "    for fname in all_imgs:\n",
    "        unknown_picture = face_recognition.load_image_file(fname)\n",
    "        unknown_face_locations = face_recognition.face_locations(unknown_picture, number_of_times_to_upsample=0, model=\"cnn\")\n",
    "        if len(unknown_face_locations) == 0:\n",
    "            unknown_face_encodings.append(-1)\n",
    "        else:\n",
    "            unknown_face_encodings.append(face_recognition.face_encodings(unknown_picture, \n",
    "                                                                      known_face_locations=unknown_face_locations))\n",
    "    return unknown_face_encodings"
   ]
  },
  {
   "cell_type": "code",
   "execution_count": null,
   "metadata": {},
   "outputs": [],
   "source": [
    "def find_matches(root_dir, main_photos, unknown_face_encodings):\n",
    "    \"\"\"\n",
    "        root_dir -> root directory of all the images\n",
    "        main_photos -> list of file names each one of which contain a picture of a person for encoding\n",
    "    \"\"\"\n",
    "    matched_faces = []\n",
    "    not_matched_faces = []\n",
    "    persons_face_encodings = find_persons_encodings(main_photos)\n",
    "        \n",
    "    for index, faces_enc in enumerate(unknown_face_encodings):\n",
    "        if faces_enc == -1:\n",
    "            not_matched_faces.append(root_dir[index])\n",
    "            continue\n",
    "        flag = 0\n",
    "        for main_face_enc in persons_face_encodings:\n",
    "            results = face_recognition.compare_faces(faces_enc, main_face_enc)\n",
    "            if True in results:\n",
    "                flag = 1\n",
    "                matched_faces.append(root_dir[index])\n",
    "                break\n",
    "        if flag == 0:\n",
    "            not_matched_faces.append(root_dir[index])\n",
    "    \n",
    "    return (matched_faces, not_matched_faces)"
   ]
  },
  {
   "cell_type": "markdown",
   "metadata": {},
   "source": [
    "Find encodings for all faces"
   ]
  },
  {
   "cell_type": "code",
   "execution_count": null,
   "metadata": {},
   "outputs": [],
   "source": [
    "unknown_face_encodings = find_face_encodings(root_dir)"
   ]
  },
  {
   "cell_type": "markdown",
   "metadata": {},
   "source": [
    "two lists of matched and not_matched photos"
   ]
  },
  {
   "cell_type": "code",
   "execution_count": null,
   "metadata": {},
   "outputs": [],
   "source": [
    "matched, not_matched = find_matches(root_dir, main_photos, unknown_face_encodings)"
   ]
  },
  {
   "cell_type": "code",
   "execution_count": null,
   "metadata": {},
   "outputs": [],
   "source": [
    "(len(matched), len(not_matched))"
   ]
  },
  {
   "cell_type": "code",
   "execution_count": null,
   "metadata": {},
   "outputs": [],
   "source": [
    "coeff_m = len(matched)//4 + 1\n",
    "coeff_n = len(not_matched)//4 + 1"
   ]
  },
  {
   "cell_type": "code",
   "execution_count": null,
   "metadata": {},
   "outputs": [],
   "source": [
    "plots_from_files(matched,figsize=(25, coeff_m * 4), rows=coeff_m)"
   ]
  },
  {
   "cell_type": "code",
   "execution_count": null,
   "metadata": {},
   "outputs": [],
   "source": [
    "plots_from_files(not_matched,figsize=(25, coeff_n * 4), rows=coeff_n )"
   ]
  }
 ],
 "metadata": {
  "kernelspec": {
   "display_name": "Python [conda env:fastai]",
   "language": "python",
   "name": "conda-env-fastai-py"
  },
  "language_info": {
   "codemirror_mode": {
    "name": "ipython",
    "version": 3
   },
   "file_extension": ".py",
   "mimetype": "text/x-python",
   "name": "python",
   "nbconvert_exporter": "python",
   "pygments_lexer": "ipython3",
   "version": "3.6.6"
  }
 },
 "nbformat": 4,
 "nbformat_minor": 2
}
